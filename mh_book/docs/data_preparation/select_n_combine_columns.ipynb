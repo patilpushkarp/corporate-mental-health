{
 "cells": [
  {
   "cell_type": "markdown",
   "id": "connected-proxy",
   "metadata": {},
   "source": [
    "# Data Selection and Segregation"
   ]
  },
  {
   "cell_type": "code",
   "execution_count": 1,
   "id": "lightweight-software",
   "metadata": {},
   "outputs": [],
   "source": [
    "# Import necessary packages\n",
    "import pandas as pd"
   ]
  },
  {
   "cell_type": "markdown",
   "id": "exotic-society",
   "metadata": {},
   "source": [
    "## Combine datasets"
   ]
  },
  {
   "cell_type": "markdown",
   "id": "steady-earth",
   "metadata": {},
   "source": [
    "Data from years 2017 and 2018 will be used as training set and data from year 2019 will be used as testing set. But for preprocessing purpose, data will be combined and then it will be separated for modelling."
   ]
  },
  {
   "cell_type": "code",
   "execution_count": 2,
   "id": "wound-growing",
   "metadata": {},
   "outputs": [],
   "source": [
    "# Combine data\n",
    "data = pd.concat([pd.read_csv('./../../../datasets/cleaned_osmi_2017.csv'), pd.read_csv('./../../../datasets/cleaned_osmi_2018.csv'), pd.read_csv('./../../../datasets/cleaned_osmi_2019.csv')])"
   ]
  },
  {
   "cell_type": "markdown",
   "id": "medium-aspect",
   "metadata": {},
   "source": [
    "## Feature Selection"
   ]
  },
  {
   "cell_type": "markdown",
   "id": "appropriate-marine",
   "metadata": {},
   "source": [
    "It would be convenient for now to remove all the columns with subjective answers."
   ]
  },
  {
   "cell_type": "code",
   "execution_count": 3,
   "id": "double-andorra",
   "metadata": {},
   "outputs": [],
   "source": [
    "# Selecting columns to be dropped\n",
    "drop_columns = ['describe the conversation you had with your employer about your mental health, including their reactions and what actions were taken to address your mental health issue/questions.', \n",
    "                'describe the conversation with coworkers you had about your mental health including their reactions.', \n",
    "                'describe the conversation your coworker had with you about their mental health (please do not use names).', \n",
    "                'describe the conversation you had with your previous coworkers about your mental health including their reactions.', \n",
    "                'describe the conversation your coworker had with you about their mental health (please do not use names)..1', \n",
    "                'describe the conversation you had with your previous employer about your mental health, including their reactions and actions taken to address your mental health issue/questions.',\n",
    "                'what disorder(s) have you been diagnosed with?',\n",
    "                'why or why not?',\n",
    "                'why or why not?.1',\n",
    "                'describe the circumstances of the badly handled or unsupportive response.',\n",
    "                'describe the circumstances of the supportive or well handled response.',\n",
    "                'briefly describe what you think the industry as a whole and/or employers could do to improve mental health support for employees.',\n",
    "                'if there is anything else you would like to tell us that has not been covered by the survey questions, please use this space to do so.',\n",
    "                'what us state or territory do you live in?',\n",
    "                'what us state or territory do you work in?']"
   ]
  },
  {
   "cell_type": "code",
   "execution_count": 4,
   "id": "patent-uncertainty",
   "metadata": {},
   "outputs": [
    {
     "name": "stdout",
     "output_type": "stream",
     "text": [
      "Dropping columns\n"
     ]
    }
   ],
   "source": [
    "# Drop selected columns and store the data\n",
    "print(\"Dropping columns\")\n",
    "data.drop(drop_columns, axis=1, inplace=True)"
   ]
  },
  {
   "cell_type": "code",
   "execution_count": 5,
   "id": "organized-national",
   "metadata": {},
   "outputs": [],
   "source": [
    "data.to_csv('./../../../datasets/data.csv', index=False)"
   ]
  }
 ],
 "metadata": {
  "kernelspec": {
   "display_name": "Python 3",
   "language": "python",
   "name": "python3"
  },
  "language_info": {
   "codemirror_mode": {
    "name": "ipython",
    "version": 3
   },
   "file_extension": ".py",
   "mimetype": "text/x-python",
   "name": "python",
   "nbconvert_exporter": "python",
   "pygments_lexer": "ipython3",
   "version": "3.8.5"
  }
 },
 "nbformat": 4,
 "nbformat_minor": 5
}
