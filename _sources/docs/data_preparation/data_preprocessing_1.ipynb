{
 "cells": [
  {
   "cell_type": "markdown",
   "id": "cleared-bathroom",
   "metadata": {},
   "source": [
    "# Data Preprocessing - 1"
   ]
  },
  {
   "cell_type": "code",
   "execution_count": 1,
   "id": "complex-sullivan",
   "metadata": {},
   "outputs": [],
   "source": [
    "import pandas as pd\n",
    "import numpy as np"
   ]
  },
  {
   "cell_type": "markdown",
   "id": "raising-brother",
   "metadata": {},
   "source": [
    "Data will be preprocessed column by column."
   ]
  },
  {
   "cell_type": "code",
   "execution_count": 2,
   "id": "featured-disaster",
   "metadata": {},
   "outputs": [],
   "source": [
    "# Load combined data\n",
    "df = pd.read_csv('./../../../datasets/data.csv')"
   ]
  },
  {
   "cell_type": "markdown",
   "id": "retained-biology",
   "metadata": {},
   "source": [
    "After manually cheking the data, a some inconsistencies are found in the data which needs to be addressed before exploring the data."
   ]
  },
  {
   "cell_type": "code",
   "execution_count": 3,
   "id": "reliable-hybrid",
   "metadata": {},
   "outputs": [],
   "source": [
    "# Some utility functions\n",
    "\n",
    "def get_value_counts(series):\n",
    "    temp_df = pd.DataFrame(series.value_counts()).reset_index()\n",
    "    temp_df.columns = ['Values', 'Counts']\n",
    "    return temp_df"
   ]
  },
  {
   "cell_type": "markdown",
   "id": "becoming-workstation",
   "metadata": {},
   "source": [
    "## Columns with true or false values"
   ]
  },
  {
   "cell_type": "markdown",
   "id": "delayed-arbor",
   "metadata": {},
   "source": [
    "Some columns contains 1.0 and 0.0 as well as true and false as values. It is better to convert to them into numerical values itself."
   ]
  },
  {
   "cell_type": "code",
   "execution_count": 4,
   "id": "arctic-baseline",
   "metadata": {},
   "outputs": [],
   "source": [
    "df = df.replace({'True':1.0, 'False':0.0})\n",
    "df = df.replace({'1.0':1.0, '0.0':0.0})"
   ]
  },
  {
   "cell_type": "markdown",
   "id": "technical-bundle",
   "metadata": {},
   "source": [
    "## are you self-employed?"
   ]
  },
  {
   "cell_type": "code",
   "execution_count": 5,
   "id": "accepting-japanese",
   "metadata": {},
   "outputs": [
    {
     "data": {
      "text/html": [
       "<div>\n",
       "<style scoped>\n",
       "    .dataframe tbody tr th:only-of-type {\n",
       "        vertical-align: middle;\n",
       "    }\n",
       "\n",
       "    .dataframe tbody tr th {\n",
       "        vertical-align: top;\n",
       "    }\n",
       "\n",
       "    .dataframe thead th {\n",
       "        text-align: right;\n",
       "    }\n",
       "</style>\n",
       "<table border=\"1\" class=\"dataframe\">\n",
       "  <thead>\n",
       "    <tr style=\"text-align: right;\">\n",
       "      <th></th>\n",
       "      <th>Values</th>\n",
       "      <th>Counts</th>\n",
       "    </tr>\n",
       "  </thead>\n",
       "  <tbody>\n",
       "    <tr>\n",
       "      <th>0</th>\n",
       "      <td>0</td>\n",
       "      <td>1308</td>\n",
       "    </tr>\n",
       "    <tr>\n",
       "      <th>1</th>\n",
       "      <td>1</td>\n",
       "      <td>217</td>\n",
       "    </tr>\n",
       "  </tbody>\n",
       "</table>\n",
       "</div>"
      ],
      "text/plain": [
       "   Values  Counts\n",
       "0       0    1308\n",
       "1       1     217"
      ]
     },
     "execution_count": 5,
     "metadata": {},
     "output_type": "execute_result"
    }
   ],
   "source": [
    "get_value_counts(df['are you self-employed?'])"
   ]
  },
  {
   "cell_type": "markdown",
   "id": "structured-wednesday",
   "metadata": {},
   "source": [
    "There is no discrepency in this column."
   ]
  },
  {
   "cell_type": "markdown",
   "id": "molecular-annex",
   "metadata": {},
   "source": [
    "## how many employees does your company or organization have?"
   ]
  },
  {
   "cell_type": "code",
   "execution_count": 6,
   "id": "referenced-minute",
   "metadata": {},
   "outputs": [
    {
     "data": {
      "text/html": [
       "<div>\n",
       "<style scoped>\n",
       "    .dataframe tbody tr th:only-of-type {\n",
       "        vertical-align: middle;\n",
       "    }\n",
       "\n",
       "    .dataframe tbody tr th {\n",
       "        vertical-align: top;\n",
       "    }\n",
       "\n",
       "    .dataframe thead th {\n",
       "        text-align: right;\n",
       "    }\n",
       "</style>\n",
       "<table border=\"1\" class=\"dataframe\">\n",
       "  <thead>\n",
       "    <tr style=\"text-align: right;\">\n",
       "      <th></th>\n",
       "      <th>Values</th>\n",
       "      <th>Counts</th>\n",
       "    </tr>\n",
       "  </thead>\n",
       "  <tbody>\n",
       "    <tr>\n",
       "      <th>0</th>\n",
       "      <td>More than 1000</td>\n",
       "      <td>374</td>\n",
       "    </tr>\n",
       "    <tr>\n",
       "      <th>1</th>\n",
       "      <td>100-500</td>\n",
       "      <td>364</td>\n",
       "    </tr>\n",
       "    <tr>\n",
       "      <th>2</th>\n",
       "      <td>26-100</td>\n",
       "      <td>243</td>\n",
       "    </tr>\n",
       "    <tr>\n",
       "      <th>3</th>\n",
       "      <td>Jun-25</td>\n",
       "      <td>155</td>\n",
       "    </tr>\n",
       "    <tr>\n",
       "      <th>4</th>\n",
       "      <td>500-1000</td>\n",
       "      <td>106</td>\n",
       "    </tr>\n",
       "    <tr>\n",
       "      <th>5</th>\n",
       "      <td>6-25</td>\n",
       "      <td>34</td>\n",
       "    </tr>\n",
       "    <tr>\n",
       "      <th>6</th>\n",
       "      <td>01-May</td>\n",
       "      <td>25</td>\n",
       "    </tr>\n",
       "    <tr>\n",
       "      <th>7</th>\n",
       "      <td>1-5</td>\n",
       "      <td>7</td>\n",
       "    </tr>\n",
       "  </tbody>\n",
       "</table>\n",
       "</div>"
      ],
      "text/plain": [
       "           Values  Counts\n",
       "0  More than 1000     374\n",
       "1         100-500     364\n",
       "2          26-100     243\n",
       "3          Jun-25     155\n",
       "4        500-1000     106\n",
       "5            6-25      34\n",
       "6          01-May      25\n",
       "7             1-5       7"
      ]
     },
     "execution_count": 6,
     "metadata": {},
     "output_type": "execute_result"
    }
   ],
   "source": [
    "get_value_counts(df['how many employees does your company or organization have?'])"
   ]
  },
  {
   "cell_type": "markdown",
   "id": "rental-appeal",
   "metadata": {},
   "source": [
    "Following are the issues:\n",
    "1. '6-25' is also represented by 'Jun-25'\n",
    "2. '1-5' is also represented by '01-May'"
   ]
  },
  {
   "cell_type": "code",
   "execution_count": 7,
   "id": "antique-literature",
   "metadata": {},
   "outputs": [],
   "source": [
    "df['how many employees does your company or organization have?'] = df['how many employees does your company or organization have?'].str.replace(\"Jun-25\", \"6-25\")\n",
    "df['how many employees does your company or organization have?'] = df['how many employees does your company or organization have?'].str.replace(\"01-May\", \"1-5\")"
   ]
  },
  {
   "cell_type": "markdown",
   "id": "needed-belarus",
   "metadata": {},
   "source": [
    "## what is your gender?"
   ]
  },
  {
   "cell_type": "code",
   "execution_count": 8,
   "id": "german-visit",
   "metadata": {},
   "outputs": [],
   "source": [
    "df['what is your gender?'] = df['what is your gender?'].str.lower()\n",
    "df['what is your gender?'] = df['what is your gender?'].str.strip()"
   ]
  },
  {
   "cell_type": "code",
   "execution_count": 9,
   "id": "provincial-irrigation",
   "metadata": {},
   "outputs": [
    {
     "data": {
      "text/html": [
       "<div>\n",
       "<style scoped>\n",
       "    .dataframe tbody tr th:only-of-type {\n",
       "        vertical-align: middle;\n",
       "    }\n",
       "\n",
       "    .dataframe tbody tr th {\n",
       "        vertical-align: top;\n",
       "    }\n",
       "\n",
       "    .dataframe thead th {\n",
       "        text-align: right;\n",
       "    }\n",
       "</style>\n",
       "<table border=\"1\" class=\"dataframe\">\n",
       "  <thead>\n",
       "    <tr style=\"text-align: right;\">\n",
       "      <th></th>\n",
       "      <th>Values</th>\n",
       "      <th>Counts</th>\n",
       "    </tr>\n",
       "  </thead>\n",
       "  <tbody>\n",
       "    <tr>\n",
       "      <th>0</th>\n",
       "      <td>male</td>\n",
       "      <td>859</td>\n",
       "    </tr>\n",
       "    <tr>\n",
       "      <th>1</th>\n",
       "      <td>female</td>\n",
       "      <td>350</td>\n",
       "    </tr>\n",
       "    <tr>\n",
       "      <th>2</th>\n",
       "      <td>m</td>\n",
       "      <td>102</td>\n",
       "    </tr>\n",
       "    <tr>\n",
       "      <th>3</th>\n",
       "      <td>f</td>\n",
       "      <td>55</td>\n",
       "    </tr>\n",
       "    <tr>\n",
       "      <th>4</th>\n",
       "      <td>woman</td>\n",
       "      <td>16</td>\n",
       "    </tr>\n",
       "    <tr>\n",
       "      <th>...</th>\n",
       "      <td>...</td>\n",
       "      <td>...</td>\n",
       "    </tr>\n",
       "    <tr>\n",
       "      <th>76</th>\n",
       "      <td>cisgender male</td>\n",
       "      <td>1</td>\n",
       "    </tr>\n",
       "    <tr>\n",
       "      <th>77</th>\n",
       "      <td>male (or female, or both)</td>\n",
       "      <td>1</td>\n",
       "    </tr>\n",
       "    <tr>\n",
       "      <th>78</th>\n",
       "      <td>contextual</td>\n",
       "      <td>1</td>\n",
       "    </tr>\n",
       "    <tr>\n",
       "      <th>79</th>\n",
       "      <td>genderqueer demigirl</td>\n",
       "      <td>1</td>\n",
       "    </tr>\n",
       "    <tr>\n",
       "      <th>80</th>\n",
       "      <td>masculine</td>\n",
       "      <td>1</td>\n",
       "    </tr>\n",
       "  </tbody>\n",
       "</table>\n",
       "<p>81 rows × 2 columns</p>\n",
       "</div>"
      ],
      "text/plain": [
       "                       Values  Counts\n",
       "0                        male     859\n",
       "1                      female     350\n",
       "2                           m     102\n",
       "3                           f      55\n",
       "4                       woman      16\n",
       "..                        ...     ...\n",
       "76             cisgender male       1\n",
       "77  male (or female, or both)       1\n",
       "78                 contextual       1\n",
       "79       genderqueer demigirl       1\n",
       "80                  masculine       1\n",
       "\n",
       "[81 rows x 2 columns]"
      ]
     },
     "execution_count": 9,
     "metadata": {},
     "output_type": "execute_result"
    }
   ],
   "source": [
    "get_value_counts(df['what is your gender?'])"
   ]
  },
  {
   "cell_type": "markdown",
   "id": "advisory-charter",
   "metadata": {},
   "source": [
    "There is lot of noise in this column."
   ]
  },
  {
   "cell_type": "code",
   "execution_count": 10,
   "id": "welcome-buying",
   "metadata": {},
   "outputs": [
    {
     "data": {
      "text/plain": [
       "array(['female', 'male', 'f', 'm', 'man', nan, 'genderfluid', 'nonbinary',\n",
       "       'cis-male', 'mail', 'woman', 'male/androgynous', 'cis hetero male',\n",
       "       'femalw', 'femail', 'male (cis)', 'uhhhhhhhhh fem genderqueer?',\n",
       "       \"male (hey this is the tech industry you're talking about)\",\n",
       "       'female (cis)', 'god king of the valajar', 'cis male',\n",
       "       'my sex is female.', 'non-binary', 'male, cis',\n",
       "       'agender/genderfluid', 'male-ish', 'sometimes',\n",
       "       'female (cisgender)', 'woman-identified', 'contextual',\n",
       "       'non binary', 'genderqueer demigirl', 'genderqueer/non-binary',\n",
       "       'cis-female', 'cis female', 'f, cisgender', 'female-ish', '\\\\-',\n",
       "       'trans woman', 'transfeminine', 'none', 'dude', 'ostensibly male',\n",
       "       'agender', 'male, born with xy chromosoms', 'malel',\n",
       "       'i identify as female', '*shrug emoji* (f)',\n",
       "       'male (or female, or both)', 'trans man', 'transgender',\n",
       "       'female/gender non-binary.', 'cis woman', 'cisgendered woman',\n",
       "       'genderqueer', 'demiguy', 'trans female', 'cisgender male',\n",
       "       'she/her/they/them', 'other', 'swm', 'cisgender female', 'nb',\n",
       "       'nonbinary/femme', 'gender non-conforming woman',\n",
       "       'let\\'s keep it simple and say \"male\"', 'identify as male',\n",
       "       'masculine', 'cishet male', 'female-identified', 'questioning',\n",
       "       'i have a penis', 'rr', 'agender trans woman', 'femmina', '43',\n",
       "       'masculino', 'i am a wookie', 'make',\n",
       "       'trans non-binary/genderfluid', 'non-binary and gender fluid',\n",
       "       'femile'], dtype=object)"
      ]
     },
     "execution_count": 10,
     "metadata": {},
     "output_type": "execute_result"
    }
   ],
   "source": [
    "df['what is your gender?'].unique()"
   ]
  },
  {
   "cell_type": "code",
   "execution_count": 11,
   "id": "collected-sauce",
   "metadata": {},
   "outputs": [],
   "source": [
    "male_list = ['male', 'm', 'man', 'mail', 'male/androgynous', 'cis-male', 'male (cis)', \n",
    "             'male (hey this is the tech industry you\\'re talking about)', 'god king of the valajar', 'cis male', \n",
    "             'male, cis', 'male-ish', 'dude', 'male, born with xy chromosoms', 'malel', 'demiguy', 'cisgender male', \n",
    "             'let\\'s keep it simple and say \"male\"', 'identify as male', 'masculine', 'make', 'cishet male', \n",
    "             'i have a penis', 'masculino']\n",
    "female_list = ['female', 'f', 'woman', 'femalw', 'femail', 'female (cis)', 'my sex is female.', \n",
    "               'female (cisgender)', 'woman-identified', 'cis-female', 'cis female', 'f, cisgender', 'female-ish', \n",
    "               'i identify as female', '*shrug emoji* (f)', 'cis woman', 'cisgendered woman', 'she/her/they/them', \n",
    "               'cisgender female', 'female-identified', 'femmina', 'femile']\n",
    "other_list = ['genderfluid', 'nonbinary', 'cis hetero male', 'uhhhhhhhhh fem genderqueer?', 'non-binary', \n",
    "              'agender/genderfluid', 'sometimes', 'contextual', 'non binary', 'genderqueer demigirl', \n",
    "              'genderqueer/non-binary', '\\\\-', 'transwoman', 'transfeminine', 'none', 'ostensibly male', 'agender', \n",
    "              'male (or female, or both)', 'trans man', 'transgender', 'female/gender non-binary.', \n",
    "              'genderqueer', 'trans female', 'other', 'swm', 'nb', 'nonbinary/femme', 'gender non-conforming woman', \n",
    "              'i am a wookie', 'questioning', 'rr', 'agender trans woman', '43', 'trans non-binary/genderfluid', \n",
    "              'non-binary and gender fluid']"
   ]
  },
  {
   "cell_type": "code",
   "execution_count": 12,
   "id": "removable-following",
   "metadata": {},
   "outputs": [],
   "source": [
    "df['what is your gender?'] = df['what is your gender?'].apply(lambda x: 'male' if x in male_list else ('female' if x in female_list else 'other'))"
   ]
  },
  {
   "cell_type": "code",
   "execution_count": 13,
   "id": "flexible-exhibition",
   "metadata": {},
   "outputs": [
    {
     "data": {
      "text/html": [
       "<div>\n",
       "<style scoped>\n",
       "    .dataframe tbody tr th:only-of-type {\n",
       "        vertical-align: middle;\n",
       "    }\n",
       "\n",
       "    .dataframe tbody tr th {\n",
       "        vertical-align: top;\n",
       "    }\n",
       "\n",
       "    .dataframe thead th {\n",
       "        text-align: right;\n",
       "    }\n",
       "</style>\n",
       "<table border=\"1\" class=\"dataframe\">\n",
       "  <thead>\n",
       "    <tr style=\"text-align: right;\">\n",
       "      <th></th>\n",
       "      <th>Values</th>\n",
       "      <th>Counts</th>\n",
       "    </tr>\n",
       "  </thead>\n",
       "  <tbody>\n",
       "    <tr>\n",
       "      <th>0</th>\n",
       "      <td>male</td>\n",
       "      <td>1002</td>\n",
       "    </tr>\n",
       "    <tr>\n",
       "      <th>1</th>\n",
       "      <td>female</td>\n",
       "      <td>446</td>\n",
       "    </tr>\n",
       "    <tr>\n",
       "      <th>2</th>\n",
       "      <td>other</td>\n",
       "      <td>77</td>\n",
       "    </tr>\n",
       "  </tbody>\n",
       "</table>\n",
       "</div>"
      ],
      "text/plain": [
       "   Values  Counts\n",
       "0    male    1002\n",
       "1  female     446\n",
       "2   other      77"
      ]
     },
     "execution_count": 13,
     "metadata": {},
     "output_type": "execute_result"
    }
   ],
   "source": [
    "get_value_counts(df['what is your gender?'])"
   ]
  },
  {
   "cell_type": "code",
   "execution_count": 14,
   "id": "commercial-haiti",
   "metadata": {},
   "outputs": [],
   "source": [
    "df.to_csv('./../../../datasets/consistent_data.csv', index=False)"
   ]
  },
  {
   "cell_type": "markdown",
   "id": "fleet-terminology",
   "metadata": {},
   "source": [
    "## Segregation of based on employment type"
   ]
  },
  {
   "cell_type": "code",
   "execution_count": 15,
   "id": "institutional-merchandise",
   "metadata": {},
   "outputs": [],
   "source": [
    "ce_df = df[df['are you self-employed?']==0]\n",
    "se_df = df[df['are you self-employed?']==1]"
   ]
  },
  {
   "cell_type": "code",
   "execution_count": 16,
   "id": "subtle-anxiety",
   "metadata": {},
   "outputs": [],
   "source": [
    "ce_df.to_csv('./../../../datasets/consistent_ce_data.csv', index=False)\n",
    "se_df.to_csv('./../../../datasets/consistent_se_data.csv', index=False)"
   ]
  }
 ],
 "metadata": {
  "kernelspec": {
   "display_name": "Python 3",
   "language": "python",
   "name": "python3"
  },
  "language_info": {
   "codemirror_mode": {
    "name": "ipython",
    "version": 3
   },
   "file_extension": ".py",
   "mimetype": "text/x-python",
   "name": "python",
   "nbconvert_exporter": "python",
   "pygments_lexer": "ipython3",
   "version": "3.8.5"
  }
 },
 "nbformat": 4,
 "nbformat_minor": 5
}
