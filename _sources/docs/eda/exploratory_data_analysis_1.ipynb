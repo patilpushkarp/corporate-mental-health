{
 "cells": [
  {
   "cell_type": "markdown",
   "id": "waiting-membership",
   "metadata": {},
   "source": [
    "# Exploratory Data Analysis - 1"
   ]
  },
  {
   "cell_type": "code",
   "execution_count": 1,
   "id": "opposed-education",
   "metadata": {},
   "outputs": [],
   "source": [
    "import pandas as pd\n",
    "import missingno as msn\n",
    "\n",
    "import plotly.graph_objects as go\n",
    "from ipywidgets import widgets"
   ]
  },
  {
   "cell_type": "code",
   "execution_count": 2,
   "id": "threatened-ready",
   "metadata": {},
   "outputs": [],
   "source": [
    "df = pd.read_csv('./../../../datasets/consistent_data.csv')"
   ]
  },
  {
   "cell_type": "markdown",
   "id": "engaging-serum",
   "metadata": {},
   "source": [
    "## Univariate analysis"
   ]
  },
  {
   "cell_type": "markdown",
   "id": "organized-chrome",
   "metadata": {},
   "source": [
    "### Company employed candidates"
   ]
  },
  {
   "cell_type": "code",
   "execution_count": 3,
   "id": "thirty-lying",
   "metadata": {},
   "outputs": [],
   "source": [
    "ce_columns = ['are you self-employed?', \n",
    "              'how many employees does your company or organization have?', \n",
    "              'is your employer primarily a tech company/organization?', \n",
    "              'is your primary role within your company related to tech/it?', \n",
    "              'does your employer provide mental health benefits as part of healthcare coverage?', \n",
    "              'do you know the options for mental health care available under your employer-provided health coverage?', \n",
    "              'has your employer ever formally discussed mental health (for example, as part of a wellness campaign or other official communication)?', \n",
    "              'does your employer offer resources to learn more about mental health disorders and options for seeking help?', \n",
    "              'is your anonymity protected if you choose to take advantage of mental health or substance abuse treatment resources provided by your employer?', \n",
    "              'if a mental health issue prompted you to request a medical leave from work, how easy or difficult would it be to ask for that leave?', \n",
    "              'would you feel more comfortable talking to your coworkers about your physical health or your mental health?', \n",
    "              'would you feel comfortable discussing a mental health issue with your direct supervisor(s)?', \n",
    "              'have you ever discussed your mental health with your employer?',\n",
    "              'would you feel comfortable discussing a mental health issue with your coworkers?',\n",
    "              'have you ever discussed your mental health with coworkers?',\n",
    "              'have you ever had a coworker discuss their or another coworker\\'s mental health with you?',\n",
    "              'overall, how much importance does your employer place on physical health?', \n",
    "              'overall, how much importance does your employer place on mental health?']"
   ]
  },
  {
   "cell_type": "code",
   "execution_count": 4,
   "id": "allied-julian",
   "metadata": {},
   "outputs": [],
   "source": [
    "df_ce = df[ce_columns]\n",
    "df_ce = df_ce[df_ce['are you self-employed?']==0]"
   ]
  },
  {
   "cell_type": "code",
   "execution_count": 5,
   "id": "front-paris",
   "metadata": {},
   "outputs": [
    {
     "name": "stdout",
     "output_type": "stream",
     "text": [
      "Number of candidates who work for employers: 1308\n"
     ]
    }
   ],
   "source": [
    "print(f\"Number of candidates who work for employers: {df_ce.shape[0]}\")"
   ]
  },
  {
   "cell_type": "code",
   "execution_count": 6,
   "id": "exceptional-princess",
   "metadata": {},
   "outputs": [
    {
     "data": {
      "application/vnd.jupyter.widget-view+json": {
       "model_id": "ecfa2a9968ce4ec893b710c20a8574bb",
       "version_major": 2,
       "version_minor": 0
      },
      "text/plain": [
       "VBox(children=(HBox(children=(Dropdown(description='Company employed candidate specifics', index=1, options=('…"
      ]
     },
     "metadata": {},
     "output_type": "display_data"
    }
   ],
   "source": [
    "columnbox1 = widgets.Dropdown(description='Company employed candidate specifics',\n",
    "                           value='how many employees does your company or organization have?',\n",
    "                           options=list(df_ce.columns))\n",
    "\n",
    "trace1 = go.Bar(x=tuple(df_ce['how many employees does your company or organization have?'].value_counts().index), \n",
    "               y=tuple(df_ce['how many employees does your company or organization have?'].value_counts().values))\n",
    "\n",
    "g1 = go.FigureWidget(data=[trace1], \n",
    "                   layout = go.Layout(title=\"Distribution\", xaxis_title=\"how many employees does your company or organization have?\", height=600))\n",
    "\n",
    "def response1(change):\n",
    "    with g1.batch_update():\n",
    "        g1.data[0].x = tuple(df_ce[columnbox1.value].value_counts().index)\n",
    "        g1.data[0].y = list(df_ce[columnbox1.value].value_counts().values)\n",
    "        g1.layout.xaxis.title = columnbox1.value\n",
    "\n",
    "columnbox1.observe(response1, names=\"value\")\n",
    "\n",
    "container1 = widgets.HBox([columnbox1])\n",
    "chart1 = widgets.VBox([container1, g1])\n",
    "\n",
    "display(chart1)"
   ]
  },
  {
   "cell_type": "markdown",
   "id": "historical-color",
   "metadata": {},
   "source": [
    "### Self-employed candidates"
   ]
  },
  {
   "cell_type": "code",
   "execution_count": 7,
   "id": "local-process",
   "metadata": {},
   "outputs": [],
   "source": [
    "se_columns = ['are you self-employed?', \n",
    "              'do you have medical coverage (private insurance or state-provided) that includes treatment of mental health disorders?', \n",
    "              'do you know local or online resources to seek help for a mental health issue?', \n",
    "              'if you have been diagnosed or treated for a mental health disorder, do you ever reveal this to clients or business contacts?', \n",
    "              'if you have revealed a mental health disorder to a client or business contact, how has this affected you or the relationship?', \n",
    "              'if you have been diagnosed or treated for a mental health disorder, do you ever reveal this to coworkers or employees?', \n",
    "              'if you have revealed a mental health disorder to a coworker or employee, how has this impacted you or the relationship?', \n",
    "              'do you believe your productivity is ever affected by a mental health issue?', \n",
    "              'if yes, what percentage of your work time (time performing primary or secondary job functions) is affected by a mental health issue?']"
   ]
  },
  {
   "cell_type": "code",
   "execution_count": 8,
   "id": "fifteen-pierce",
   "metadata": {},
   "outputs": [],
   "source": [
    "df_se = df[se_columns]\n",
    "df_se = df_se[df_se['are you self-employed?']==1]"
   ]
  },
  {
   "cell_type": "code",
   "execution_count": 9,
   "id": "crucial-brooks",
   "metadata": {},
   "outputs": [
    {
     "name": "stdout",
     "output_type": "stream",
     "text": [
      "Number of candidates who work for employers: 217\n"
     ]
    }
   ],
   "source": [
    "print(f\"Number of candidates who work for employers: {df_se.shape[0]}\")"
   ]
  },
  {
   "cell_type": "code",
   "execution_count": 10,
   "id": "ignored-catalyst",
   "metadata": {},
   "outputs": [
    {
     "data": {
      "application/vnd.jupyter.widget-view+json": {
       "model_id": "60221bbfadfb4945b0600e6f6c833c67",
       "version_major": 2,
       "version_minor": 0
      },
      "text/plain": [
       "VBox(children=(HBox(children=(Dropdown(description='Self-employed candidate specifics', index=1, options=('are…"
      ]
     },
     "metadata": {},
     "output_type": "display_data"
    }
   ],
   "source": [
    "columnbox2 = widgets.Dropdown(description='Self-employed candidate specifics',\n",
    "                           value='do you have medical coverage (private insurance or state-provided) that includes treatment of mental health disorders?',\n",
    "                           options=list(df_se.columns))\n",
    "\n",
    "trace2 = go.Bar(x=tuple(df_se['do you have medical coverage (private insurance or state-provided) that includes treatment of mental health disorders?'].value_counts().index), \n",
    "               y=tuple(df_se['do you have medical coverage (private insurance or state-provided) that includes treatment of mental health disorders?'].value_counts().values))\n",
    "\n",
    "g2 = go.FigureWidget(data=[trace2], \n",
    "                   layout = go.Layout(title=\"Distribution\", \n",
    "                                      xaxis_title=\"do you have medical coverage (private insurance or state-provided) that includes treatment of mental health disorders?\", \n",
    "                                      height=600))\n",
    "\n",
    "def response2(change):\n",
    "    with g2.batch_update():\n",
    "        g2.data[0].x = tuple(df_se[columnbox2.value].value_counts().index)\n",
    "        g2.data[0].y = list(df_se[columnbox2.value].value_counts().values)\n",
    "        g2.layout.xaxis.title = columnbox2.value\n",
    "\n",
    "columnbox2.observe(response2, names=\"value\")\n",
    "\n",
    "container2 = widgets.HBox([columnbox2])\n",
    "chart2 = widgets.VBox([container2, g2])\n",
    "\n",
    "display(chart2)"
   ]
  },
  {
   "cell_type": "markdown",
   "id": "cordless-laser",
   "metadata": {},
   "source": [
    "### Common questions"
   ]
  },
  {
   "cell_type": "code",
   "execution_count": 11,
   "id": "studied-venue",
   "metadata": {},
   "outputs": [],
   "source": [
    "cc_columns = list(set(df.columns)-set(ce_columns)-set(se_columns))\n",
    "cc_columns.remove('what is your age?')"
   ]
  },
  {
   "cell_type": "code",
   "execution_count": 12,
   "id": "integral-owner",
   "metadata": {},
   "outputs": [],
   "source": [
    "df_cc = df[cc_columns]"
   ]
  },
  {
   "cell_type": "code",
   "execution_count": 13,
   "id": "breeding-amateur",
   "metadata": {},
   "outputs": [
    {
     "data": {
      "application/vnd.jupyter.widget-view+json": {
       "model_id": "08422d4df66b436ca65ffd79f2aed278",
       "version_major": 2,
       "version_minor": 0
      },
      "text/plain": [
       "VBox(children=(HBox(children=(Dropdown(description='Self-employed candidate specifics', options=('do you have …"
      ]
     },
     "metadata": {},
     "output_type": "display_data"
    }
   ],
   "source": [
    "columnbox3 = widgets.Dropdown(description='Self-employed candidate specifics',\n",
    "                           value='do you have previous employers?',\n",
    "                           options=list(df_cc.columns))\n",
    "\n",
    "trace3 = go.Bar(x=tuple(df_cc['do you have previous employers?'].value_counts().index), \n",
    "               y=tuple(df_cc['do you have previous employers?'].value_counts().values))\n",
    "\n",
    "g3 = go.FigureWidget(data=[trace3], \n",
    "                   layout = go.Layout(title=\"Distribution\", xaxis_title=\"do you have previous employers?\", height=600))\n",
    "\n",
    "def response3(change):\n",
    "    with g3.batch_update():\n",
    "        g3.data[0].x = tuple(df_cc[columnbox3.value].value_counts().index)\n",
    "        g3.data[0].y = list(df_cc[columnbox3.value].value_counts().values)\n",
    "        g3.layout.xaxis.title = columnbox3.value\n",
    "\n",
    "\n",
    "columnbox3.observe(response3, names=\"value\")\n",
    "\n",
    "container3 = widgets.HBox([columnbox3])\n",
    "chart3 = widgets.VBox([container3, g3])\n",
    "\n",
    "display(chart3)"
   ]
  },
  {
   "cell_type": "markdown",
   "id": "confident-border",
   "metadata": {},
   "source": [
    "## Multivariate Analysis"
   ]
  },
  {
   "cell_type": "code",
   "execution_count": 14,
   "id": "durable-visitor",
   "metadata": {},
   "outputs": [],
   "source": [
    "relevant_columns = ['are you self-employed?', 'do you know the options for mental health care available under your employer-provided health coverage?', \n",
    "                    'do you currently have a mental health disorder?', \n",
    "                    'do you have medical coverage (private insurance or state-provided) that includes treatment of mental health disorders?',\n",
    "                    'do you know local or online resources to seek help for a mental health issue?'\n",
    "                    'have you ever been diagnosed with a mental health disorder?', \n",
    "                    'have you had a mental health disorder in the past?', \n",
    "                    'do you have a family history of mental illness?', \n",
    "                    'if you have a mental health disorder, how often do you feel that it interferes with your work when being treated effectively?',\n",
    "                    'how willing would you be to share with friends and family that you have a mental illness?', \n",
    "                    'would you bring up your mental health with a potential employer in an interview?', \n",
    "                    'are you openly identified at work as a person with a mental health issue?', \n",
    "                    'have you observed or experienced an unsupportive or badly handled response to a mental health issue in your current or previous workplace?', \n",
    "                    'would you be willing to talk to one of us more extensively about your experiences with mental health issues in the tech industry? (note that all interview responses would be used anonymously and only with your permission.)', \n",
    "                    'what is your gender?', 'what country do you work in?']"
   ]
  },
  {
   "cell_type": "code",
   "execution_count": 15,
   "id": "minus-retention",
   "metadata": {},
   "outputs": [
    {
     "data": {
      "application/vnd.jupyter.widget-view+json": {
       "model_id": "9974ff477a394c2dab247c7190fa17f4",
       "version_major": 2,
       "version_minor": 0
      },
      "text/plain": [
       "VBox(children=(HBox(children=(Dropdown(description='Specific columns for analysis', options=('are you self-emp…"
      ]
     },
     "metadata": {},
     "output_type": "display_data"
    }
   ],
   "source": [
    "columnbox = widgets.Dropdown(description='Specific columns for analysis',\n",
    "                           value='are you self-employed?',\n",
    "                           options=relevant_columns)\n",
    "\n",
    "treated_df = df[df['have you ever sought treatment for a mental health disorder from a mental health professional?']==1]\n",
    "non_treated_df = df[df['have you ever sought treatment for a mental health disorder from a mental health professional?']==0]\n",
    "\n",
    "trace1 = go.Bar(y=tuple(treated_df['are you self-employed?'].value_counts().index), \n",
    "               x=tuple(treated_df['are you self-employed?'].value_counts().values),\n",
    "               name=\"Took treatment\", orientation=\"h\")\n",
    "trace2 = go.Bar(y=tuple(non_treated_df['are you self-employed?'].value_counts().index), \n",
    "               x=tuple(non_treated_df['are you self-employed?'].value_counts().values),\n",
    "               name=\"Did not take treatment\", orientation=\"h\")\n",
    "\n",
    "g = go.FigureWidget(data=[trace1, trace2], \n",
    "                    layout = go.Layout(title=\"Distribution with respect to treatment\", \n",
    "                    xaxis_title=\"are you self-employed?\", height=600))\n",
    "\n",
    "def response4(change):\n",
    "    with g.batch_update():\n",
    "        g.data[0].y = tuple(treated_df[columnbox.value].value_counts().index[:7])\n",
    "        g.data[0].x = tuple(treated_df[columnbox.value].value_counts().values[:7])\n",
    "        g.data[1].y = tuple(non_treated_df[columnbox.value].value_counts().index[:7])\n",
    "        g.data[1].x = tuple(non_treated_df[columnbox.value].value_counts().values[:7])\n",
    "        g.layout.xaxis.title = columnbox.value\n",
    "\n",
    "columnbox.observe(response4, names=\"value\")\n",
    "\n",
    "container = widgets.HBox([columnbox])\n",
    "chart = widgets.VBox([container, g])\n",
    "\n",
    "display(chart)"
   ]
  },
  {
   "cell_type": "code",
   "execution_count": 16,
   "id": "executive-context",
   "metadata": {},
   "outputs": [],
   "source": [
    "current_em_columns = ['overall, how much importance does your employer place on physical health?', 'overall, how much importance does your employer place on mental health?']\n",
    "previous_em_columns = ['overall, how much importance did your previous employer place on physical health?', 'overall, how much importance did your previous employer place on mental health?']"
   ]
  },
  {
   "cell_type": "code",
   "execution_count": 17,
   "id": "animated-operations",
   "metadata": {},
   "outputs": [
    {
     "data": {
      "application/vnd.jupyter.widget-view+json": {
       "model_id": "ae94534182394bac950aa257d416df5c",
       "version_major": 2,
       "version_minor": 0
      },
      "text/plain": [
       "VBox(children=(HBox(children=(Dropdown(description='Treated', options=('Took treatment', 'Did not take treatme…"
      ]
     },
     "metadata": {},
     "output_type": "display_data"
    }
   ],
   "source": [
    "treatmentbox = widgets.Dropdown(description='Treated',\n",
    "                                   value='Took treatment',\n",
    "                                   options=[\"Took treatment\", \"Did not take treatment\"])\n",
    "\n",
    "emtimebox = widgets.Dropdown(description='Time of employment',\n",
    "                           value='Current',\n",
    "                           options=[\"Current\", \"Previous\"])\n",
    "\n",
    "treated_df = df[df['have you ever sought treatment for a mental health disorder from a mental health professional?']==1]\n",
    "non_treated_df = df[df['have you ever sought treatment for a mental health disorder from a mental health professional?']==0]\n",
    "\n",
    "trace1 = go.Bar(y=tuple(treated_df['overall, how much importance does your employer place on physical health?'].value_counts().index), \n",
    "               x=tuple(treated_df['overall, how much importance does your employer place on physical health?'].value_counts().values),\n",
    "               name=\"Physical health importance\", orientation=\"h\")\n",
    "trace2 = go.Bar(y=tuple(treated_df['overall, how much importance does your employer place on mental health?'].value_counts().index), \n",
    "               x=tuple(treated_df['overall, how much importance does your employer place on mental health?'].value_counts().values),\n",
    "               name=\"Mental health importance\", orientation=\"h\")\n",
    "\n",
    "g = go.FigureWidget(data=[trace1, trace2], \n",
    "                    layout = go.Layout(title=\"Distribution with respect to importance\", \n",
    "                    yaxis_title=\"Importance\", xaxis_title=\"Number of people\", height=600))\n",
    "\n",
    "def response5(change):\n",
    "    if emtimebox.value == \"Current\":\n",
    "        columns = current_em_columns\n",
    "    else:\n",
    "        columns = previous_em_columns\n",
    "        \n",
    "    if treatmentbox.value == \"Took treatment\":\n",
    "        temp_df = df[df['have you ever sought treatment for a mental health disorder from a mental health professional?']==1]\n",
    "    else:\n",
    "        temp_df = df[df['have you ever sought treatment for a mental health disorder from a mental health professional?']==0]\n",
    "        \n",
    "    with g.batch_update():\n",
    "        g.data[0].y = tuple(temp_df[columns[0]].value_counts().index)\n",
    "        g.data[0].x = tuple(temp_df[columns[0]].value_counts().values)\n",
    "        g.data[1].y = tuple(temp_df[columns[1]].value_counts().index)\n",
    "        g.data[1].x = tuple(temp_df[columns[1]].value_counts().values)\n",
    "        g.layout.yaxis.title = \"Importance\"\n",
    "        g.layout.xaxis.title = \"Number of people\"\n",
    "\n",
    "treatmentbox.observe(response5, names=\"value\")\n",
    "emtimebox.observe(response5, names=\"value\")\n",
    "\n",
    "container = widgets.HBox([treatmentbox, emtimebox])\n",
    "chart = widgets.VBox([container, g])\n",
    "\n",
    "display(chart)"
   ]
  },
  {
   "cell_type": "code",
   "execution_count": null,
   "id": "postal-nebraska",
   "metadata": {},
   "outputs": [],
   "source": []
  }
 ],
 "metadata": {
  "kernelspec": {
   "display_name": "Python 3",
   "language": "python",
   "name": "python3"
  },
  "language_info": {
   "codemirror_mode": {
    "name": "ipython",
    "version": 3
   },
   "file_extension": ".py",
   "mimetype": "text/x-python",
   "name": "python",
   "nbconvert_exporter": "python",
   "pygments_lexer": "ipython3",
   "version": "3.8.5"
  }
 },
 "nbformat": 4,
 "nbformat_minor": 5
}
